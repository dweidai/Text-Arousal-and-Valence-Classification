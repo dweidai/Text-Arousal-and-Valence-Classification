{
 "cells": [
  {
   "cell_type": "code",
   "execution_count": 22,
   "metadata": {},
   "outputs": [],
   "source": [
    "import pandas as pd\n",
    "df = pd.read_csv('text_emotion.csv', encoding='latin_1')"
   ]
  },
  {
   "cell_type": "code",
   "execution_count": 23,
   "metadata": {},
   "outputs": [
    {
     "data": {
      "text/html": [
       "<div>\n",
       "<style scoped>\n",
       "    .dataframe tbody tr th:only-of-type {\n",
       "        vertical-align: middle;\n",
       "    }\n",
       "\n",
       "    .dataframe tbody tr th {\n",
       "        vertical-align: top;\n",
       "    }\n",
       "\n",
       "    .dataframe thead th {\n",
       "        text-align: right;\n",
       "    }\n",
       "</style>\n",
       "<table border=\"1\" class=\"dataframe\">\n",
       "  <thead>\n",
       "    <tr style=\"text-align: right;\">\n",
       "      <th></th>\n",
       "      <th>sentiment</th>\n",
       "      <th>content</th>\n",
       "      <th>Unnamed: 2</th>\n",
       "    </tr>\n",
       "  </thead>\n",
       "  <tbody>\n",
       "    <tr>\n",
       "      <th>0</th>\n",
       "      <td>empty</td>\n",
       "      <td>@tiffanylue i know  i was listenin to bad habi...</td>\n",
       "      <td>NaN</td>\n",
       "    </tr>\n",
       "    <tr>\n",
       "      <th>1</th>\n",
       "      <td>sadness</td>\n",
       "      <td>Layin n bed with a headache  ughhhh...waitin o...</td>\n",
       "      <td>NaN</td>\n",
       "    </tr>\n",
       "    <tr>\n",
       "      <th>2</th>\n",
       "      <td>sadness</td>\n",
       "      <td>Funeral ceremony...gloomy friday...</td>\n",
       "      <td>NaN</td>\n",
       "    </tr>\n",
       "    <tr>\n",
       "      <th>3</th>\n",
       "      <td>enthusiasm</td>\n",
       "      <td>wants to hang out with friends SOON!</td>\n",
       "      <td>NaN</td>\n",
       "    </tr>\n",
       "    <tr>\n",
       "      <th>4</th>\n",
       "      <td>neutral</td>\n",
       "      <td>@dannycastillo We want to trade with someone w...</td>\n",
       "      <td>NaN</td>\n",
       "    </tr>\n",
       "  </tbody>\n",
       "</table>\n",
       "</div>"
      ],
      "text/plain": [
       "    sentiment                                            content  Unnamed: 2\n",
       "0       empty  @tiffanylue i know  i was listenin to bad habi...         NaN\n",
       "1     sadness  Layin n bed with a headache  ughhhh...waitin o...         NaN\n",
       "2     sadness                Funeral ceremony...gloomy friday...         NaN\n",
       "3  enthusiasm               wants to hang out with friends SOON!         NaN\n",
       "4     neutral  @dannycastillo We want to trade with someone w...         NaN"
      ]
     },
     "execution_count": 23,
     "metadata": {},
     "output_type": "execute_result"
    }
   ],
   "source": [
    "df.dropna()\n",
    "df.head()"
   ]
  },
  {
   "cell_type": "code",
   "execution_count": 24,
   "metadata": {},
   "outputs": [],
   "source": [
    "df_list = [df.columns.values.astype('U').tolist()] + df.values.tolist()"
   ]
  },
  {
   "cell_type": "code",
   "execution_count": 25,
   "metadata": {},
   "outputs": [
    {
     "name": "stdout",
     "output_type": "stream",
     "text": [
      "['empty', 'sadness', 'sadness', 'enthusiasm', 'neutral', 'worry', 'sadness', 'worry', 'sadness', 'sadness']\n",
      "<class 'str'>\n",
      "<class 'str'>\n",
      "True\n",
      "40000\n",
      "@tiffanylue i know  i was listenin to bad habit earlier and i started freakin at his part =[\n"
     ]
    }
   ],
   "source": [
    "df_sentence = [df_list[x+1][1] for x in range(len(df_list)-1)]\n",
    "emotion = [df_list[x+1][0] for x in range(len(df_list)-1)]\n",
    "print(emotion[0:10])\n",
    "print(type(emotion[0]))\n",
    "print(type('empty'))\n",
    "print(emotion[0] is emotion[526])\n",
    "print(len(emotion))\n",
    "print(df_sentence[0])"
   ]
  },
  {
   "cell_type": "code",
   "execution_count": 26,
   "metadata": {},
   "outputs": [
    {
     "name": "stdout",
     "output_type": "stream",
     "text": [
      "['fun', 'surprise', 'anger', 'neutral', 'happiness', 'empty', 'sadness', 'love', 'enthusiasm', 'hate', 'boredom', 'relief', 'worry']\n"
     ]
    }
   ],
   "source": [
    "mylist = list(set(emotion))\n",
    "'''\n",
    "if emotion[i] is emotion[147]: #relief\n",
    "        valence_3[i] = 1 #for positive valence\n",
    "        arousal_3[i] = 0\n",
    "    if emotion[i] is emotion[4]: #neutral\n",
    "        valence_3[i] = 0 #for positive valence\n",
    "        arousal_3[i] = 0\n",
    "    if emotion[i] is emotion[112]: #boredom\n",
    "        valence_3[i] = 0 #for positive valence\n",
    "        arousal_3[i] = 0\n",
    "    if emotion[i] is emotion[21]: #fun\n",
    "        valence_3[i] = 1 #for positive valence\n",
    "        arousal_3[i] = 1\n",
    "    if emotion[i] is emotion[526]: #empty\n",
    "        valence_3[i] = 0 #for positive valence\n",
    "        arousal_3[i] = 0\n",
    "    if emotion[i] is emotion[5]: #worry\n",
    "        valence_3[i] = 0 #for positive valence\n",
    "        arousal_3[i] = 1\n",
    "    if emotion[i] is emotion[14]: #surprise\n",
    "        valence_3[i] = 1 #for positive valence\n",
    "        arousal_3[i] = 1\n",
    "    if emotion[i] is emotion[16]: #love\n",
    "        valence_3[i] = 1 #for positive valence\n",
    "        arousal_3[i] = 1\n",
    "    if emotion[i] is emotion[86]:\n",
    "        valence_3[i] = 0 #for positive valence\n",
    "        arousal_3[i] = 1\n",
    "    if emotion[i] is emotion[3]: #enthu\n",
    "        valence_3[i] = 1 #for positive valence\n",
    "        arousal_3[i] = 1\n",
    "    if emotion[i] is emotion[1]: #sadness\n",
    "        print(i)\n",
    "        valence_3[i] = 0 #for positive valence\n",
    "        arousal_3[i] = 0\n",
    "    if emotion[i] is emotion[527]:\n",
    "        valence_3[i] = 0 #for positive valence\n",
    "        arousal_3[i] = 1\n",
    "    else:\n",
    "        valence_3[i] = 1 #for positive valence\n",
    "        arousal_3[i] = 1\n",
    "        '''\n",
    "print(mylist)"
   ]
  },
  {
   "cell_type": "code",
   "execution_count": 27,
   "metadata": {},
   "outputs": [
    {
     "name": "stdout",
     "output_type": "stream",
     "text": [
      "40000\n"
     ]
    }
   ],
   "source": [
    "import numpy as np\n",
    "valence_3 = np.zeros(len(emotion))\n",
    "arousal_3 = np.zeros(len(emotion))\n",
    "one_one = []\n",
    "zero_zero = []\n",
    "zero_one = []\n",
    "one_zero = []\n",
    "i = 0\n",
    "j = 0\n",
    "while i < int(len(emotion)):\n",
    "    if(emotion[i] == 'fun' or emotion[i] == 'happiness' or emotion[i] == 'enthusiasm' or emotion[i] == 'love'):\n",
    "        valence_3[j] = 1\n",
    "        arousal_3[j] = 1\n",
    "        one_one.append(df_sentence[i])\n",
    "        j+=1\n",
    "    i += 1\n",
    "i = 0\n",
    "while i < int(len(emotion)):\n",
    "    if(emotion[i] == 'sad' or emotion[i] == 'boredom' or emotion[i] == 'worry'):\n",
    "        valence_3[j] = 0\n",
    "        arousal_3[j] = 0\n",
    "        zero_zero.append(df_sentence[i])\n",
    "        j+=1\n",
    "    i += 1\n",
    "i = 0\n",
    "while i < int(len(emotion)):\n",
    "    if(emotion[i] == 'anger' or emotion[i] == 'hate'):\n",
    "        valence_3[j] = 0\n",
    "        arousal_3[j] = 1\n",
    "        zero_one.append(df_sentence[i])\n",
    "        j+=1\n",
    "    i += 1\n",
    "i = 0\n",
    "while i < int(len(emotion)):\n",
    "    if(emotion[i] == 'neural' or emotion[i] == 'relief'):\n",
    "        valence_3[j] = 1\n",
    "        arousal_3[j] = 0\n",
    "        one_zero.append(df_sentence[i])\n",
    "        j+=1\n",
    "    i+=1\n",
    "print(i)"
   ]
  },
  {
   "cell_type": "code",
   "execution_count": 28,
   "metadata": {},
   "outputs": [
    {
     "name": "stdout",
     "output_type": "stream",
     "text": [
      "11586\n",
      "1433\n",
      "8638\n",
      "1526\n",
      "40000\n",
      "40000\n",
      "23183\n",
      "23183\n",
      "23183\n"
     ]
    }
   ],
   "source": [
    "print(len(one_one))\n",
    "print(len(zero_one))\n",
    "print(len(zero_zero))\n",
    "print(len(one_zero))\n",
    "print(len(valence_3))\n",
    "print(len(arousal_3))\n",
    "valence3 = np.zeros(j)\n",
    "arousal3 = np.zeros(j)\n",
    "for i in range(j):\n",
    "    valence3[i] = valence_3[i]\n",
    "    arousal3[i] = arousal_3[i]\n",
    "print(len(valence3))\n",
    "print(len(arousal3))\n",
    "df_sentence = one_one + zero_zero + zero_one + one_zero\n",
    "print(len(df_sentence))"
   ]
  },
  {
   "cell_type": "code",
   "execution_count": 29,
   "metadata": {},
   "outputs": [
    {
     "name": "stdout",
     "output_type": "stream",
     "text": [
      "wants to hang out with friends SOON!\n",
      "1.0\n",
      "1.0\n"
     ]
    }
   ],
   "source": [
    "print(df_sentence[0])\n",
    "print(valence3[0])\n",
    "print(arousal3[0])"
   ]
  },
  {
   "cell_type": "code",
   "execution_count": 30,
   "metadata": {},
   "outputs": [],
   "source": [
    "emo = pd.read_csv('emo.csv', encoding='latin_1')\n",
    "emo.dropna()\n",
    "#fb = pd.read_csv('fbemo.csv')\n",
    "#fb.dropna()\n",
    "#fb_list = [fb.columns.values.astype('U').tolist()] + fb.values.tolist()\n",
    "emo_list = [emo.columns.values.astype('U').tolist()] + emo.values.tolist()"
   ]
  },
  {
   "cell_type": "code",
   "execution_count": 31,
   "metadata": {},
   "outputs": [
    {
     "name": "stdout",
     "output_type": "stream",
     "text": [
      "(10062,)\n"
     ]
    }
   ],
   "source": [
    "import numpy as np\n",
    "valence_1 = np.zeros(len(emo_list)-1)\n",
    "arousal_1 = np.zeros(len(emo_list)-1)\n",
    "i = 1\n",
    "while i < int(len(emo_list)):\n",
    "    if emo_list[i][1] >= 3:\n",
    "        valence_1[i-1] = 1 #for positive valence\n",
    "    else:\n",
    "        valence_1[i-1] = 0 #for negative valence\n",
    "    if emo_list[i][2] >= 3:\n",
    "        arousal_1[i-1] = 1 #for positive arousal\n",
    "    else:\n",
    "        arousal_1[i-1] = 0 #for negative arousal\n",
    "    i+=1\n",
    "'''\n",
    "valence_2 = np.zeros(len(fb_list)-1)\n",
    "arousal_2 = np.zeros(len(fb_list)-1)\n",
    "i = 1\n",
    "while i < int(len(fb_list)):\n",
    "    if (fb_list[i][1] + fb_list[i][2])/2 >= 5:\n",
    "        valence_2[i-1] = 1 #for positive valence\n",
    "    else:\n",
    "        valence_2[i-1] = 0 #for negative valence\n",
    "    if (fb_list[i][3] + fb_list[i][4])/2 >= 5:\n",
    "        arousal_2[i-1] = 1 #for positive arousal\n",
    "    else:\n",
    "        arousal_2[i-1] = 0 #for negative arousal\n",
    "    i+=1\n",
    "'''\n",
    "print(valence_1.shape)\n",
    "#print(valence_2.shape)"
   ]
  },
  {
   "cell_type": "code",
   "execution_count": 32,
   "metadata": {},
   "outputs": [],
   "source": [
    "emo_sentence = [emo_list[x+1][0] for x in range(len(emo_list)-1)]\n",
    "#fb_sentence = [fb_list[x+1][0] for x in range(len(fb_list)-1)]\n",
    "#sentence = emo_sentence + fb_sentence + df_sentence"
   ]
  },
  {
   "cell_type": "code",
   "execution_count": 40,
   "metadata": {},
   "outputs": [],
   "source": [
    "sentence = emo_sentence + df_sentence\n",
    "valence_np = np.hstack((valence_1, valence3)) #, valence_2\n",
    "arousal_np = np.hstack((arousal_1, arousal3)) #, arousal_2\n",
    "valence = valence_np.tolist()\n",
    "arousal = arousal_np.tolist()"
   ]
  },
  {
   "cell_type": "code",
   "execution_count": 41,
   "metadata": {},
   "outputs": [
    {
     "name": "stdout",
     "output_type": "stream",
     "text": [
      "33245\n",
      "33245\n",
      "33245\n"
     ]
    }
   ],
   "source": [
    "from sklearn.model_selection import train_test_split\n",
    "#S_train = [sentence[i].value().astype(U) for i in range(len(sentence))]\n",
    "S_train = sentence\n",
    "v_train = valence \n",
    "a_train = arousal\n",
    "print(len(S_train))\n",
    "print(len(v_train))\n",
    "print(len(a_train))"
   ]
  },
  {
   "cell_type": "code",
   "execution_count": 130,
   "metadata": {},
   "outputs": [],
   "source": [
    "middle_words = ['and','a','the','am','it','me','with','in','on','by','near','this','that','an','there','here','those','ourselves', 'hers', 'between', 'yourself', 'but', 'again', 'there', 'about', 'once',\n",
    "                'during', 'out', 'very', 'having', 'with', 'they', 'own', 'an', 'be', 'some', 'for', 'do', 'its', 'yours', 'such', 'into',\n",
    "                'of', 'most', 'itself', 'other', 'off', 'is', 's', 'am', 'or', 'who', 'as', 'from', 'him', 'each', 'the', 'themselves',\n",
    "                'until', 'below', 'are', 'we', 'these', 'your', 'his', 'through', 'don', 'nor', 'me', 'were', 'her', 'more', \n",
    "                'himself', 'this', 'down', 'should', 'our', 'their', 'while', 'above', 'both', 'up', 'to', 'ours', 'had', 'she', \n",
    "                'all', 'when', 'at', 'any', 'before', 'them', 'same', 'and', 'been', 'have', 'in', 'will', 'on', 'does', 'yourselves',\n",
    "                'then', 'that', 'because', 'what', 'over', 'why', 'so', 'can', 'did', 'now', 'under', 'he', 'you', 'herself', 'has', 'just', 'where', 'myself', 'which', 'those', 'i',\n",
    "                'after', 'few', 'whom', 't', 'being', 'if', 'theirs', 'my', 'against', 'a', 'by', 'doing', 'it', 'how', 'further', 'was', 'here', 'than']\n",
    "middle_words = set(dict.fromkeys([stemmer.stem(word) for word in middle_words]))"
   ]
  },
  {
   "cell_type": "code",
   "execution_count": 131,
   "metadata": {},
   "outputs": [],
   "source": [
    "from nltk.tokenize import RegexpTokenizer\n",
    "tokenizer = RegexpTokenizer('\\w+|\\$[\\d\\.]+|\\S+')\n",
    "from nltk.stem.snowball import SnowballStemmer\n",
    "stemmer = SnowballStemmer(\"english\")\n",
    "def tokenize(sentence):\n",
    "    tokens = tokenizer.tokenize(sentence)\n",
    "    for w in middle_words:\n",
    "        while w in tokens:\n",
    "            tokens.remove(w)\n",
    "    toReturn = [stemmer.stem(item.lower()) for item in tokens]\n",
    "    return toReturn"
   ]
  },
  {
   "cell_type": "code",
   "execution_count": 132,
   "metadata": {},
   "outputs": [],
   "source": [
    "from sklearn.feature_extraction.text import TfidfVectorizer\n",
    "count_vect = TfidfVectorizer(ngram_range=(1,3), tokenizer=tokenize)\n",
    "trainX = count_vect.fit_transform(S_train)"
   ]
  },
  {
   "cell_type": "code",
   "execution_count": 133,
   "metadata": {},
   "outputs": [],
   "source": [
    "from sklearn import preprocessing\n",
    "le = preprocessing.LabelEncoder()\n",
    "le.fit(v_train)\n",
    "target_labels = le.classes_\n",
    "trainy = le.transform(v_train)"
   ]
  },
  {
   "cell_type": "code",
   "execution_count": 134,
   "metadata": {},
   "outputs": [],
   "source": [
    "def train_random(X,y):\n",
    "    from sklearn.linear_model import RandomizedLogisticRegression\n",
    "    randomized_logistic = RandomizedLogisticRegression()\n",
    "    randomized_logistic.fit(X, y)\n",
    "    print(\"Parameters: \", randomized_logistic.get_params)\n",
    "    print(\"Score: \", str(randomized_logistic.score(X,y)))\n",
    "    return randomized_logistic\n",
    "\n",
    "def train_bagging(X,y):\n",
    "    from sklearn.ensemble import BaggingClassifier\n",
    "    from sklearn.linear_model import LogisticRegression\n",
    "    from sklearn.model_selection import GridSearchCV\n",
    "    bagging = BaggingClassifier(base_estimator = LogisticRegression(C=5, random_state=0, solver='lbfgs',class_weight = 'balanced', max_iter=10000))\n",
    "    f_list = [0.25,0.5,0.75]\n",
    "    parameters_bagging = {'max_features': f_list}\n",
    "    grid = GridSearchCV(bagging, parameters_bagging, cv=5)\n",
    "    grid.fit(X, y)\n",
    "    print(\"Best cross-validation score: {:.2f}\".format(grid.best_score_))\n",
    "    print(\"Best parameters: \", grid.best_params_)\n",
    "    print(\"Best estimator: \", grid.best_estimator_)\n",
    "    cls_bagging = grid.best_estimator_\n",
    "    cls_bagging.fit(X, y)\n",
    "    return cls_bagging\n",
    "    \n",
    "def train_classifier(X, y):\n",
    "    from sklearn.linear_model import LogisticRegression\n",
    "    from sklearn.model_selection import GridSearchCV\n",
    "    param_grid = {'C': [1, 5, 10, 25]}\n",
    "    print(\"grid search start\")\n",
    "    grid = GridSearchCV(LogisticRegression(random_state=0, solver='lbfgs',class_weight = 'balanced', max_iter=10000), param_grid, cv=5)\n",
    "    print(\"done grid search\")\n",
    "    grid.fit(X, y)\n",
    "    print(\"Best cross-validation score: {:.2f}\".format(grid.best_score_))\n",
    "    print(\"Best parameters: \", grid.best_params_)\n",
    "    print(\"Best estimator: \", grid.best_estimator_)\n",
    "    cls = grid.best_estimator_\n",
    "    cls.fit(X, y)\n",
    "    return cls"
   ]
  },
  {
   "cell_type": "code",
   "execution_count": 135,
   "metadata": {},
   "outputs": [
    {
     "name": "stdout",
     "output_type": "stream",
     "text": [
      "grid search start\n",
      "done grid search\n",
      "Best cross-validation score: 0.73\n",
      "Best parameters:  {'C': 5}\n",
      "Best estimator:  LogisticRegression(C=5, class_weight='balanced', dual=False,\n",
      "          fit_intercept=True, intercept_scaling=1, max_iter=10000,\n",
      "          multi_class='warn', n_jobs=None, penalty='l2', random_state=0,\n",
      "          solver='lbfgs', tol=0.0001, verbose=0, warm_start=False)\n"
     ]
    }
   ],
   "source": [
    "cls_valence = train_classifier(trainX, trainy)\n",
    "#svc_valence = train_svc(trainX, trainy)\n",
    "#bagging_valence = train_bagging(trainX, trainy)\n",
    "#cls_random = train_random_forest(trainX, trainy)"
   ]
  },
  {
   "cell_type": "code",
   "execution_count": 136,
   "metadata": {},
   "outputs": [],
   "source": [
    "le_a = preprocessing.LabelEncoder()\n",
    "le_a.fit(a_train)\n",
    "target_labels_a = le_a.classes_\n",
    "trainy = le_a.transform(a_train)\n",
    "le_a = preprocessing.LabelEncoder()"
   ]
  },
  {
   "cell_type": "code",
   "execution_count": 137,
   "metadata": {},
   "outputs": [
    {
     "name": "stdout",
     "output_type": "stream",
     "text": [
      "grid search start\n",
      "done grid search\n",
      "Best cross-validation score: 0.64\n",
      "Best parameters:  {'C': 10}\n",
      "Best estimator:  LogisticRegression(C=10, class_weight='balanced', dual=False,\n",
      "          fit_intercept=True, intercept_scaling=1, max_iter=10000,\n",
      "          multi_class='warn', n_jobs=None, penalty='l2', random_state=0,\n",
      "          solver='lbfgs', tol=0.0001, verbose=0, warm_start=False)\n"
     ]
    }
   ],
   "source": [
    "cls_arousal = train_classifier(trainX, trainy)\n",
    "#bagging_arousal = train_bagging(trainX, trainy)\n",
    "#random_arousal = train_random(trainX, trainy)"
   ]
  },
  {
   "cell_type": "code",
   "execution_count": 197,
   "metadata": {},
   "outputs": [],
   "source": [
    "test_list = ['Why cant you stop?']\n",
    "phrase = \"Everything here is below average, but I can live with it\"\n",
    "test_list.clear()\n",
    "test_list.append(phrase)\n",
    "test = count_vect.transform(test_list)\n",
    "lr_v = cls_valence.predict(test)\n",
    "lr_a = cls_arousal.predict(test)\n",
    "#bagging_v = bagging_valence.predict(test_list)\n",
    "#bagging_a = bagging_arousal.predict(test_list)\n",
    "#rf = cls_random(test_list)"
   ]
  },
  {
   "cell_type": "code",
   "execution_count": 198,
   "metadata": {},
   "outputs": [
    {
     "name": "stdout",
     "output_type": "stream",
     "text": [
      "[1]\n",
      "[0]\n",
      "\n"
     ]
    }
   ],
   "source": [
    "print(lr_v)\n",
    "print(lr_a)\n",
    "print()\n",
    "#print(bagging_v)\n",
    "#print(bagging_a)"
   ]
  },
  {
   "cell_type": "code",
   "execution_count": 199,
   "metadata": {},
   "outputs": [
    {
     "name": "stdout",
     "output_type": "stream",
     "text": [
      "You are just Chilling\n",
      "\n",
      "\n"
     ]
    },
    {
     "data": {
      "text/plain": [
       "'\\nif(bagging_v == 1 and bagging_a == 1):\\n    print(\"You are Happy\")\\nelif(bagging_v == 1 and bagging_a == 0):\\n    print(\"You are just Chilling\")\\nelif(bagging_v == 0 and bagging_a == 1):\\n    print(\" You are really displeased\")\\nelif(bagging_v == 0 and bagging_a == 0):\\n    print(\"You are bored or you are sad\")\\n'"
      ]
     },
     "execution_count": 199,
     "metadata": {},
     "output_type": "execute_result"
    }
   ],
   "source": [
    "if(lr_v == 1 and lr_a == 1):\n",
    "    print(\"You are Happy\")\n",
    "elif(lr_v == 1 and lr_a == 0):\n",
    "    print(\"You are just Chilling\")\n",
    "elif(lr_v == 0 and lr_a == 1):\n",
    "    print(\" You are really displeased\")\n",
    "elif(lr_v == 0 and lr_a == 0):\n",
    "    print(\"You are bored or you are sad\")\n",
    "\n",
    "print()\n",
    "print()\n",
    "'''\n",
    "if(bagging_v == 1 and bagging_a == 1):\n",
    "    print(\"You are Happy\")\n",
    "elif(bagging_v == 1 and bagging_a == 0):\n",
    "    print(\"You are just Chilling\")\n",
    "elif(bagging_v == 0 and bagging_a == 1):\n",
    "    print(\" You are really displeased\")\n",
    "elif(bagging_v == 0 and bagging_a == 0):\n",
    "    print(\"You are bored or you are sad\")\n",
    "'''"
   ]
  },
  {
   "cell_type": "code",
   "execution_count": null,
   "metadata": {},
   "outputs": [],
   "source": []
  }
 ],
 "metadata": {
  "kernelspec": {
   "display_name": "Python 3",
   "language": "python",
   "name": "python3"
  },
  "language_info": {
   "codemirror_mode": {
    "name": "ipython",
    "version": 3
   },
   "file_extension": ".py",
   "mimetype": "text/x-python",
   "name": "python",
   "nbconvert_exporter": "python",
   "pygments_lexer": "ipython3",
   "version": "3.6.8"
  }
 },
 "nbformat": 4,
 "nbformat_minor": 2
}
