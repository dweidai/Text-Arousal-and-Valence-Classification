{
 "cells": [
  {
   "cell_type": "code",
   "execution_count": 1,
   "metadata": {},
   "outputs": [
    {
     "data": {
      "text/html": [
       "<div>\n",
       "<style scoped>\n",
       "    .dataframe tbody tr th:only-of-type {\n",
       "        vertical-align: middle;\n",
       "    }\n",
       "\n",
       "    .dataframe tbody tr th {\n",
       "        vertical-align: top;\n",
       "    }\n",
       "\n",
       "    .dataframe thead th {\n",
       "        text-align: right;\n",
       "    }\n",
       "</style>\n",
       "<table border=\"1\" class=\"dataframe\">\n",
       "  <thead>\n",
       "    <tr style=\"text-align: right;\">\n",
       "      <th></th>\n",
       "      <th>Anonymized Message</th>\n",
       "      <th>Valence</th>\n",
       "      <th>Arousal</th>\n",
       "    </tr>\n",
       "  </thead>\n",
       "  <tbody>\n",
       "    <tr>\n",
       "      <th>0</th>\n",
       "      <td>Remember what she said in my last letter? \"</td>\n",
       "      <td>3.00</td>\n",
       "      <td>3.00</td>\n",
       "    </tr>\n",
       "    <tr>\n",
       "      <th>1</th>\n",
       "      <td>If I wasn't working here.</td>\n",
       "      <td>2.80</td>\n",
       "      <td>3.10</td>\n",
       "    </tr>\n",
       "    <tr>\n",
       "      <th>2</th>\n",
       "      <td>..\"</td>\n",
       "      <td>3.00</td>\n",
       "      <td>3.00</td>\n",
       "    </tr>\n",
       "    <tr>\n",
       "      <th>3</th>\n",
       "      <td>Goodwill helps people get off of public assist...</td>\n",
       "      <td>3.44</td>\n",
       "      <td>3.00</td>\n",
       "    </tr>\n",
       "    <tr>\n",
       "      <th>4</th>\n",
       "      <td>Sherry learned through our Future Works class ...</td>\n",
       "      <td>3.55</td>\n",
       "      <td>3.27</td>\n",
       "    </tr>\n",
       "  </tbody>\n",
       "</table>\n",
       "</div>"
      ],
      "text/plain": [
       "                                  Anonymized Message  Valence  Arousal\n",
       "0        Remember what she said in my last letter? \"     3.00     3.00\n",
       "1                          If I wasn't working here.     2.80     3.10\n",
       "2                                                ..\"     3.00     3.00\n",
       "3  Goodwill helps people get off of public assist...     3.44     3.00\n",
       "4  Sherry learned through our Future Works class ...     3.55     3.27"
      ]
     },
     "execution_count": 1,
     "metadata": {},
     "output_type": "execute_result"
    }
   ],
   "source": [
    "import pandas as pd\n",
    "emo = pd.read_csv('emo.csv', encoding='latin_1')\n",
    "emo.dropna()\n",
    "emo.head()"
   ]
  },
  {
   "cell_type": "code",
   "execution_count": 2,
   "metadata": {},
   "outputs": [
    {
     "data": {
      "text/html": [
       "<div>\n",
       "<style scoped>\n",
       "    .dataframe tbody tr th:only-of-type {\n",
       "        vertical-align: middle;\n",
       "    }\n",
       "\n",
       "    .dataframe tbody tr th {\n",
       "        vertical-align: top;\n",
       "    }\n",
       "\n",
       "    .dataframe thead th {\n",
       "        text-align: right;\n",
       "    }\n",
       "</style>\n",
       "<table border=\"1\" class=\"dataframe\">\n",
       "  <thead>\n",
       "    <tr style=\"text-align: right;\">\n",
       "      <th></th>\n",
       "      <th>Anonymized Message</th>\n",
       "      <th>Valence1</th>\n",
       "      <th>Valence2</th>\n",
       "      <th>Arousal1</th>\n",
       "      <th>Arousal2</th>\n",
       "    </tr>\n",
       "  </thead>\n",
       "  <tbody>\n",
       "    <tr>\n",
       "      <th>0</th>\n",
       "      <td>We'll be off and running to a lil' place calle...</td>\n",
       "      <td>9</td>\n",
       "      <td>9</td>\n",
       "      <td>8</td>\n",
       "      <td>8</td>\n",
       "    </tr>\n",
       "    <tr>\n",
       "      <th>1</th>\n",
       "      <td>I really wana move soon!</td>\n",
       "      <td>4</td>\n",
       "      <td>5</td>\n",
       "      <td>5</td>\n",
       "      <td>7</td>\n",
       "    </tr>\n",
       "    <tr>\n",
       "      <th>2</th>\n",
       "      <td>thinking at charity cup</td>\n",
       "      <td>5</td>\n",
       "      <td>5</td>\n",
       "      <td>1</td>\n",
       "      <td>1</td>\n",
       "    </tr>\n",
       "    <tr>\n",
       "      <th>3</th>\n",
       "      <td>thinks that for girls, boys are easily found. ...</td>\n",
       "      <td>4</td>\n",
       "      <td>3</td>\n",
       "      <td>6</td>\n",
       "      <td>7</td>\n",
       "    </tr>\n",
       "    <tr>\n",
       "      <th>4</th>\n",
       "      <td>Our Wedding Anniversary tonight...</td>\n",
       "      <td>7</td>\n",
       "      <td>7</td>\n",
       "      <td>4</td>\n",
       "      <td>5</td>\n",
       "    </tr>\n",
       "  </tbody>\n",
       "</table>\n",
       "</div>"
      ],
      "text/plain": [
       "                                  Anonymized Message  Valence1  Valence2  \\\n",
       "0  We'll be off and running to a lil' place calle...         9         9   \n",
       "1                           I really wana move soon!         4         5   \n",
       "2                            thinking at charity cup         5         5   \n",
       "3  thinks that for girls, boys are easily found. ...         4         3   \n",
       "4                 Our Wedding Anniversary tonight...         7         7   \n",
       "\n",
       "   Arousal1  Arousal2  \n",
       "0         8         8  \n",
       "1         5         7  \n",
       "2         1         1  \n",
       "3         6         7  \n",
       "4         4         5  "
      ]
     },
     "execution_count": 2,
     "metadata": {},
     "output_type": "execute_result"
    }
   ],
   "source": [
    "fb = pd.read_csv('fbemo.csv')\n",
    "fb.dropna()\n",
    "fb.head()"
   ]
  },
  {
   "cell_type": "code",
   "execution_count": null,
   "metadata": {},
   "outputs": [],
   "source": [
    "fb_list = [fb.columns.values.apply(lambda x: np.str_(x)).tolist()] + fb.values.tolist()\n",
    "emo_list = [emo.columns.values.apply(lambda x: np.str_(x)).tolist()] + emo.values.tolist()"
   ]
  },
  {
   "cell_type": "code",
   "execution_count": 4,
   "metadata": {},
   "outputs": [
    {
     "name": "stdout",
     "output_type": "stream",
     "text": [
      "(10062,)\n",
      "(2895,)\n"
     ]
    }
   ],
   "source": [
    "import numpy as np\n",
    "valence_1 = np.zeros(len(emo_list)-1)\n",
    "arousal_1 = np.zeros(len(emo_list)-1)\n",
    "i = 1\n",
    "while i < int(len(emo_list)):\n",
    "    if emo_list[i][1] > 3:\n",
    "        valence_1[i-1] = 1 #for positive valence\n",
    "    else:\n",
    "        valence_1[i-1] = 0 #for negative valence\n",
    "    if emo_list[i][2] > 3:\n",
    "        arousal_1[i-1] = 1 #for positive arousal\n",
    "    else:\n",
    "        arousal_1[i-1] = 0 #for negative arousal\n",
    "    i+=1\n",
    "valence_2 = np.zeros(len(fb_list)-1)\n",
    "arousal_2 = np.zeros(len(fb_list)-1)\n",
    "i = 1\n",
    "while i < int(len(fb_list)):\n",
    "    if (fb_list[i][1] + fb_list[i][2])/2 > 5:\n",
    "        valence_2[i-1] = 1 #for positive valence\n",
    "    else:\n",
    "        valence_2[i-1] = 0 #for negative valence\n",
    "    if (fb_list[i][3] + fb_list[i][4])/2 > 5:\n",
    "        arousal_2[i-1] = 1 #for positive arousal\n",
    "    else:\n",
    "        arousal_2[i-1] = 0 #for negative arousal\n",
    "    i+=1\n",
    "print(valence_1.shape)\n",
    "print(valence_2.shape)"
   ]
  },
  {
   "cell_type": "code",
   "execution_count": 5,
   "metadata": {},
   "outputs": [],
   "source": [
    "emo_sentence = [emo_list[x+1][0] for x in range(len(emo_list)-1)]\n",
    "fb_sentence = [fb_list[x+1][0] for x in range(len(fb_list)-1)]\n",
    "sentence = emo_sentence + fb_sentence"
   ]
  },
  {
   "cell_type": "code",
   "execution_count": 8,
   "metadata": {},
   "outputs": [
    {
     "name": "stdout",
     "output_type": "stream",
     "text": [
      "11661\n",
      "11661\n",
      "1296\n",
      "1296\n"
     ]
    }
   ],
   "source": [
    "valence_np = np.hstack((valence_1, valence_2))\n",
    "arousal_np = np.hstack((arousal_1, arousal_2))\n",
    "valence = valence_np.tolist()\n",
    "arousal = arousal_np.tolist()\n",
    "\n",
    "from sklearn.model_selection import train_test_split\n",
    "S_train, S_test, v_train, v_test = train_test_split(sentence, valence, test_size=0.1, random_state = 0) \n",
    "a_train, a_test = train_test_split(arousal, test_size=0.1, random_state = 0) \n",
    "print(len(S_train))\n",
    "print(len(v_train))\n",
    "print(len(S_test))\n",
    "print(len(a_test))"
   ]
  },
  {
   "cell_type": "code",
   "execution_count": 14,
   "metadata": {},
   "outputs": [],
   "source": [
    "from nltk.tokenize import RegexpTokenizer\n",
    "tokenizer = RegexpTokenizer('\\w+|\\$[\\d\\.]+|\\S+')\n",
    "from nltk.stem.snowball import SnowballStemmer\n",
    "stemmer = SnowballStemmer(\"english\")\n",
    "from nltk.corpus import stopwords\n",
    "def tokenize(sentence):\n",
    "    tokens = tokenizer.tokenize(sentence)\n",
    "    toReturn = [stemmer.stem(item.lower()) for item in tokens]\n",
    "    return toReturn"
   ]
  },
  {
   "cell_type": "code",
   "execution_count": 15,
   "metadata": {},
   "outputs": [],
   "source": [
    "from sklearn.feature_extraction.text import TfidfVectorizer\n",
    "count_vect = TfidfVectorizer(ngram_range=(1,3), tokenizer=tokenize)\n",
    "trainX = count_vect.fit_transform(S_train)"
   ]
  },
  {
   "cell_type": "code",
   "execution_count": 16,
   "metadata": {},
   "outputs": [],
   "source": [
    "from sklearn import preprocessing\n",
    "le = preprocessing.LabelEncoder()\n",
    "le.fit(a_train)\n",
    "target_labels = le.classes_\n",
    "trainy = le.transform(a_train)"
   ]
  },
  {
   "cell_type": "code",
   "execution_count": 17,
   "metadata": {},
   "outputs": [],
   "source": [
    "def train_random_forest(X,y):\n",
    "    from sklearn.ensemble import RandomForestClassifier\n",
    "    from sklearn.model_selection import GridSearchCV\n",
    "    random = RandomForestClassifier(random_state=0)\n",
    "    n_list = [1,500]\n",
    "    parameters_random = {'n_estimators' : n_list}\n",
    "    grid = GridSearchCV(random, parameters_random, cv=3)\n",
    "    grid.fit(X, y)\n",
    "    print(\"Best cross-validation score: {:.2f}\".format(grid.best_score_))\n",
    "    print(\"Best parameters: \", grid.best_params_)\n",
    "    print(\"Best estimator: \", grid.best_estimator_)\n",
    "    cls_random = grid.best_estimator_\n",
    "    cls_random.fit(X, y)\n",
    "    return cls_random\n",
    "\n",
    "def train_classifier(X, y):\n",
    "    from sklearn.linear_model import LogisticRegression\n",
    "    from sklearn.model_selection import GridSearchCV\n",
    "    param_grid = {'C': [0.01, 0.1, 1, 10, 100]}\n",
    "    print(\"grid search start\")\n",
    "    grid = GridSearchCV(LogisticRegression(random_state=0, solver='lbfgs',class_weight = 'balanced', max_iter=10000), param_grid, cv=5)\n",
    "    print(\"done grid search\")\n",
    "    grid.fit(X, y)\n",
    "    print(\"Best cross-validation score: {:.2f}\".format(grid.best_score_))\n",
    "    print(\"Best parameters: \", grid.best_params_)\n",
    "    print(\"Best estimator: \", grid.best_estimator_)\n",
    "    cls = grid.best_estimator_\n",
    "    cls.fit(X, y)\n",
    "    return cls"
   ]
  },
  {
   "cell_type": "code",
   "execution_count": 18,
   "metadata": {},
   "outputs": [
    {
     "name": "stdout",
     "output_type": "stream",
     "text": [
      "Best cross-validation score: 0.64\n",
      "Best parameters:  {'n_estimators': 500}\n",
      "Best estimator:  RandomForestClassifier(bootstrap=True, class_weight=None, criterion='gini',\n",
      "            max_depth=None, max_features='auto', max_leaf_nodes=None,\n",
      "            min_impurity_decrease=0.0, min_impurity_split=None,\n",
      "            min_samples_leaf=1, min_samples_split=2,\n",
      "            min_weight_fraction_leaf=0.0, n_estimators=500, n_jobs=None,\n",
      "            oob_score=False, random_state=0, verbose=0, warm_start=False)\n"
     ]
    }
   ],
   "source": [
    "cls_random = train_random_forest(trainX, trainy)"
   ]
  },
  {
   "cell_type": "code",
   "execution_count": 19,
   "metadata": {},
   "outputs": [
    {
     "name": "stdout",
     "output_type": "stream",
     "text": [
      "grid search start\n",
      "done grid search\n",
      "Best cross-validation score: 0.65\n",
      "Best parameters:  {'C': 10}\n",
      "Best estimator:  LogisticRegression(C=10, class_weight='balanced', dual=False,\n",
      "          fit_intercept=True, intercept_scaling=1, max_iter=10000,\n",
      "          multi_class='warn', n_jobs=None, penalty='l2', random_state=0,\n",
      "          solver='lbfgs', tol=0.0001, verbose=0, warm_start=False)\n"
     ]
    }
   ],
   "source": [
    "cls = train_classifier(trainX, trainy)"
   ]
  },
  {
   "cell_type": "code",
   "execution_count": 20,
   "metadata": {},
   "outputs": [
    {
     "name": "stdout",
     "output_type": "stream",
     "text": [
      "[0]\n",
      "[0]\n"
     ]
    }
   ],
   "source": [
    "test_list = ['Today is a good day, my man!']\n",
    "test_list = count_vect.transform(test_list)\n",
    "yp = cls.predict(test_list)\n",
    "yq = cls_random.predict(test_list)\n",
    "print(yp)\n",
    "print(yq)"
   ]
  },
  {
   "cell_type": "code",
   "execution_count": null,
   "metadata": {},
   "outputs": [],
   "source": [
    "def evaluate(X, yt, cls, name='data'):\n",
    "    \"\"\"Evaluated a classifier on the given labeled data using accuracy.\"\"\"\n",
    "    from sklearn import metrics\n",
    "    yp = cls.predict(X)\n",
    "    acc = metrics.accuracy_score(yt, yp)\n",
    "    print(\"  Accuracy on %s  is: %s\" % (name, acc))\n",
    "    return acc"
   ]
  },
  {
   "cell_type": "code",
   "execution_count": null,
   "metadata": {},
   "outputs": [],
   "source": [
    "count_vect = TfidfVectorizer(ngram_range=(1,3), tokenizer=tokenize)\n",
    "testX = count_vect.fit_transform(S_test)\n",
    "le = preprocessing.LabelEncoder()\n",
    "le.fit(v_test)\n",
    "target_labels = le.classes_\n",
    "testy = le.transform(a_test)\n",
    "print(\"\\nEvaluating\")\n",
    "evaluate(trainX, trainy, cls, 'train')\n",
    "acc = evaluate(testX, testy, cls, 'dev')"
   ]
  }
 ],
 "metadata": {
  "kernelspec": {
   "display_name": "Python 3",
   "language": "python",
   "name": "python3"
  },
  "language_info": {
   "codemirror_mode": {
    "name": "ipython",
    "version": 3
   },
   "file_extension": ".py",
   "mimetype": "text/x-python",
   "name": "python",
   "nbconvert_exporter": "python",
   "pygments_lexer": "ipython3",
   "version": "3.6.8"
  }
 },
 "nbformat": 4,
 "nbformat_minor": 2
}
